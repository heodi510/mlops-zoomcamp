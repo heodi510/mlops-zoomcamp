{
 "cells": [
  {
   "cell_type": "code",
   "execution_count": 1,
   "id": "3d16ba4d",
   "metadata": {},
   "outputs": [],
   "source": [
    "import pandas as pd\n",
    "import seaborn as sns\n",
    "import matplotlib.pyplot as plt\n",
    "from sklearn.feature_extraction import DictVectorizer\n",
    "from sklearn.linear_model import LinearRegression\n",
    "from sklearn.linear_model import Lasso\n",
    "from sklearn.linear_model import Ridge\n",
    "from sklearn.metrics import root_mean_squared_error"
   ]
  },
  {
   "cell_type": "code",
   "execution_count": 2,
   "id": "a2ca6d8f",
   "metadata": {},
   "outputs": [
    {
     "name": "stdout",
     "output_type": "stream",
     "text": [
      "Q1 Number of columns in train: 19\n",
      "Q2 Std of trip duration: 42.59435124195458\n",
      "Q3 Remained records after dropping outliers: 0.9812202822125979\n",
      "Q4 Dimension of one-hot encoding: 515\n",
      "Q5 Training RMSE: 7.6492622258678935\n"
     ]
    }
   ],
   "source": [
    "# read the data\n",
    "df_train = pd.read_parquet('./data/yellow_tripdata_2023-01.parquet')\n",
    "df_val = pd.read_parquet('./data/yellow_tripdata_2023-02.parquet')\n",
    "print('Q1 Number of columns in train:', df_train.shape[1])\n",
    "\n",
    "# Compute the trip duration, the label for the later model\n",
    "df_train['duration'] = df_train.tpep_dropoff_datetime - df_train.tpep_pickup_datetime\n",
    "df_train.duration = df_train.duration.apply(lambda td: td.total_seconds() / 60)\n",
    "\n",
    "print('Q2 Std of trip duration:', df_train.duration.std())\n",
    "print('Q3 Remained records after dropping outliers:', (df_train[(df_train.duration >= 1) & (df_train.duration <= 60)]).shape[0]/df_train.shape[0])\n",
    "# filter the data to remove outliers\n",
    "df_train = df_train[(df_train.duration >= 1) & (df_train.duration <= 60)]\n",
    "# take pickup and dropoff locations as training features\n",
    "categorical = ['PULocationID', 'DOLocationID']\n",
    "df_train[categorical]=df_train[categorical].astype(str)\n",
    "# Gernerate the one-hot encoding for the categorical features\n",
    "train_dicts = df_train[categorical].to_dict(orient='records')\n",
    "dv = DictVectorizer()\n",
    "X_train = dv.fit_transform(train_dicts)\n",
    "\n",
    "print('Q4 Dimension of one-hot encoding:', X_train.shape[1])\n",
    "# train the model and calculate the training loss\n",
    "target = 'duration'\n",
    "y_train = df_train[target].values\n",
    "lr = LinearRegression()\n",
    "lr.fit(X_train, y_train)\n",
    "y_pred = lr.predict(X_train)\n",
    "loss_train=root_mean_squared_error(y_train, y_pred)\n",
    "print('Q5 Training RMSE:', loss_train)"
   ]
  },
  {
   "cell_type": "code",
   "execution_count": 4,
   "id": "9872aa41",
   "metadata": {},
   "outputs": [
    {
     "name": "stdout",
     "output_type": "stream",
     "text": [
      "Q6 Validation RMSE: 7.811813648526847\n"
     ]
    }
   ],
   "source": [
    "# compute the validation loss\n",
    "df_val['duration'] = df_val.tpep_dropoff_datetime - df_val.tpep_pickup_datetime\n",
    "df_val.duration = df_val.duration.apply(lambda td: td.total_seconds() / 60)\n",
    "df_val = df_val[(df_val.duration >= 1) & (df_val.duration <= 60)]\n",
    "df_val[categorical]=df_val[categorical].astype(str)\n",
    "val_dicts = df_val[categorical].to_dict(orient='records')\n",
    "X_val = dv.transform(val_dicts)\n",
    "\n",
    "y_val = df_val[target].values\n",
    "y_val_pred = lr.predict(X_val)\n",
    "loss_val=root_mean_squared_error(y_val, y_val_pred)\n",
    "print('Q6 Validation RMSE:', loss_val)"
   ]
  },
  {
   "cell_type": "code",
   "execution_count": null,
   "id": "8fb4f366",
   "metadata": {},
   "outputs": [],
   "source": []
  }
 ],
 "metadata": {
  "kernelspec": {
   "display_name": "venv",
   "language": "python",
   "name": "python3"
  },
  "language_info": {
   "codemirror_mode": {
    "name": "ipython",
    "version": 3
   },
   "file_extension": ".py",
   "mimetype": "text/x-python",
   "name": "python",
   "nbconvert_exporter": "python",
   "pygments_lexer": "ipython3",
   "version": "3.12.10"
  }
 },
 "nbformat": 4,
 "nbformat_minor": 5
}
